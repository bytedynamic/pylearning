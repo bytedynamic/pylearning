{
 "cells": [
  {
   "cell_type": "markdown",
   "metadata": {},
   "source": [
    "# 导入numpy库并取别名为np (★☆☆)"
   ]
  },
  {
   "cell_type": "code",
   "execution_count": 1,
   "metadata": {
    "execution": {
     "iopub.execute_input": "2021-06-17T17:06:12.991524Z",
     "iopub.status.busy": "2021-06-17T17:06:12.991524Z",
     "iopub.status.idle": "2021-06-17T17:06:13.314395Z",
     "shell.execute_reply": "2021-06-17T17:06:13.313395Z",
     "shell.execute_reply.started": "2021-06-17T17:06:12.991524Z"
    },
    "tags": []
   },
   "outputs": [],
   "source": [
    "import numpy as np"
   ]
  },
  {
   "cell_type": "markdown",
   "metadata": {},
   "source": [
    "# 打印输出numpy的版本和配置信息 (★☆☆)"
   ]
  },
  {
   "cell_type": "code",
   "execution_count": 2,
   "metadata": {
    "execution": {
     "iopub.execute_input": "2021-06-17T17:06:13.320393Z",
     "iopub.status.busy": "2021-06-17T17:06:13.319392Z",
     "iopub.status.idle": "2021-06-17T17:06:13.346527Z",
     "shell.execute_reply": "2021-06-17T17:06:13.344529Z",
     "shell.execute_reply.started": "2021-06-17T17:06:13.320393Z"
    },
    "tags": []
   },
   "outputs": [
    {
     "data": {
      "text/plain": [
       "'1.19.2'"
      ]
     },
     "execution_count": 2,
     "metadata": {},
     "output_type": "execute_result"
    }
   ],
   "source": [
    "np.__version__"
   ]
  },
  {
   "cell_type": "code",
   "execution_count": 3,
   "metadata": {
    "execution": {
     "iopub.execute_input": "2021-06-17T17:06:13.348525Z",
     "iopub.status.busy": "2021-06-17T17:06:13.348525Z",
     "iopub.status.idle": "2021-06-17T17:06:13.362517Z",
     "shell.execute_reply": "2021-06-17T17:06:13.360519Z",
     "shell.execute_reply.started": "2021-06-17T17:06:13.348525Z"
    }
   },
   "outputs": [
    {
     "name": "stdout",
     "output_type": "stream",
     "text": [
      "blas_mkl_info:\n",
      "    libraries = ['mkl_rt']\n",
      "    library_dirs = ['D:/Anaconda3\\\\Library\\\\lib']\n",
      "    define_macros = [('SCIPY_MKL_H', None), ('HAVE_CBLAS', None)]\n",
      "    include_dirs = ['D:/Anaconda3\\\\Library\\\\include']\n",
      "blas_opt_info:\n",
      "    libraries = ['mkl_rt']\n",
      "    library_dirs = ['D:/Anaconda3\\\\Library\\\\lib']\n",
      "    define_macros = [('SCIPY_MKL_H', None), ('HAVE_CBLAS', None)]\n",
      "    include_dirs = ['D:/Anaconda3\\\\Library\\\\include']\n",
      "lapack_mkl_info:\n",
      "    libraries = ['mkl_rt']\n",
      "    library_dirs = ['D:/Anaconda3\\\\Library\\\\lib']\n",
      "    define_macros = [('SCIPY_MKL_H', None), ('HAVE_CBLAS', None)]\n",
      "    include_dirs = ['D:/Anaconda3\\\\Library\\\\include']\n",
      "lapack_opt_info:\n",
      "    libraries = ['mkl_rt']\n",
      "    library_dirs = ['D:/Anaconda3\\\\Library\\\\lib']\n",
      "    define_macros = [('SCIPY_MKL_H', None), ('HAVE_CBLAS', None)]\n",
      "    include_dirs = ['D:/Anaconda3\\\\Library\\\\include']\n"
     ]
    }
   ],
   "source": [
    "np.show_config()"
   ]
  },
  {
   "cell_type": "markdown",
   "metadata": {},
   "source": [
    "# 创建一个长度为10的空向量 (★☆☆)"
   ]
  },
  {
   "cell_type": "code",
   "execution_count": 4,
   "metadata": {
    "execution": {
     "iopub.execute_input": "2021-06-17T17:06:13.366515Z",
     "iopub.status.busy": "2021-06-17T17:06:13.365516Z",
     "iopub.status.idle": "2021-06-17T17:06:13.377509Z",
     "shell.execute_reply": "2021-06-17T17:06:13.376509Z",
     "shell.execute_reply.started": "2021-06-17T17:06:13.366515Z"
    }
   },
   "outputs": [
    {
     "data": {
      "text/plain": [
       "array([0., 0., 0., 0., 0., 0., 0., 0., 0., 0.])"
      ]
     },
     "execution_count": 4,
     "metadata": {},
     "output_type": "execute_result"
    }
   ],
   "source": [
    "np.zeros(10)"
   ]
  },
  {
   "cell_type": "markdown",
   "metadata": {},
   "source": [
    "# 如何找到任何一个数组的内存大小？(★☆☆)"
   ]
  },
  {
   "cell_type": "code",
   "execution_count": 5,
   "metadata": {
    "execution": {
     "iopub.execute_input": "2021-06-17T17:06:13.381507Z",
     "iopub.status.busy": "2021-06-17T17:06:13.380508Z",
     "iopub.status.idle": "2021-06-17T17:06:13.410490Z",
     "shell.execute_reply": "2021-06-17T17:06:13.408492Z",
     "shell.execute_reply.started": "2021-06-17T17:06:13.381507Z"
    },
    "tags": []
   },
   "outputs": [
    {
     "name": "stdout",
     "output_type": "stream",
     "text": [
      "800 bytes\n"
     ]
    }
   ],
   "source": [
    "Z = np.zeros((10,10))\n",
    "print(\"%d bytes\" % (Z.size * Z.itemsize))"
   ]
  },
  {
   "cell_type": "markdown",
   "metadata": {},
   "source": [
    "# 如何从命令行得到numpy中add函数的说明文档? (★☆☆)"
   ]
  },
  {
   "cell_type": "code",
   "execution_count": 6,
   "metadata": {
    "execution": {
     "iopub.execute_input": "2021-06-17T17:06:13.417487Z",
     "iopub.status.busy": "2021-06-17T17:06:13.416488Z",
     "iopub.status.idle": "2021-06-17T17:06:13.440473Z",
     "shell.execute_reply": "2021-06-17T17:06:13.438474Z",
     "shell.execute_reply.started": "2021-06-17T17:06:13.417487Z"
    }
   },
   "outputs": [
    {
     "name": "stdout",
     "output_type": "stream",
     "text": [
      "add(x1, x2, /, out=None, *, where=True, casting='same_kind', order='K', dtype=None, subok=True[, signature, extobj])\n",
      "\n",
      "Add arguments element-wise.\n",
      "\n",
      "Parameters\n",
      "----------\n",
      "x1, x2 : array_like\n",
      "    The arrays to be added.\n",
      "    If ``x1.shape != x2.shape``, they must be broadcastable to a common\n",
      "    shape (which becomes the shape of the output).\n",
      "out : ndarray, None, or tuple of ndarray and None, optional\n",
      "    A location into which the result is stored. If provided, it must have\n",
      "    a shape that the inputs broadcast to. If not provided or None,\n",
      "    a freshly-allocated array is returned. A tuple (possible only as a\n",
      "    keyword argument) must have length equal to the number of outputs.\n",
      "where : array_like, optional\n",
      "    This condition is broadcast over the input. At locations where the\n",
      "    condition is True, the `out` array will be set to the ufunc result.\n",
      "    Elsewhere, the `out` array will retain its original value.\n",
      "    Note that if an uninitialized `out` array is created via the default\n",
      "    ``out=None``, locations within it where the condition is False will\n",
      "    remain uninitialized.\n",
      "**kwargs\n",
      "    For other keyword-only arguments, see the\n",
      "    :ref:`ufunc docs <ufuncs.kwargs>`.\n",
      "\n",
      "Returns\n",
      "-------\n",
      "add : ndarray or scalar\n",
      "    The sum of `x1` and `x2`, element-wise.\n",
      "    This is a scalar if both `x1` and `x2` are scalars.\n",
      "\n",
      "Notes\n",
      "-----\n",
      "Equivalent to `x1` + `x2` in terms of array broadcasting.\n",
      "\n",
      "Examples\n",
      "--------\n",
      ">>> np.add(1.0, 4.0)\n",
      "5.0\n",
      ">>> x1 = np.arange(9.0).reshape((3, 3))\n",
      ">>> x2 = np.arange(3.0)\n",
      ">>> np.add(x1, x2)\n",
      "array([[  0.,   2.,   4.],\n",
      "       [  3.,   5.,   7.],\n",
      "       [  6.,   8.,  10.]])\n"
     ]
    }
   ],
   "source": [
    "np.info(np.add)"
   ]
  },
  {
   "cell_type": "markdown",
   "metadata": {},
   "source": [
    "# 创建一个长度为10并且除了第五个值为1的空向量 (★☆☆)"
   ]
  },
  {
   "cell_type": "code",
   "execution_count": 7,
   "metadata": {
    "execution": {
     "iopub.execute_input": "2021-06-17T17:06:13.446469Z",
     "iopub.status.busy": "2021-06-17T17:06:13.445470Z",
     "iopub.status.idle": "2021-06-17T17:06:13.455465Z",
     "shell.execute_reply": "2021-06-17T17:06:13.454465Z",
     "shell.execute_reply.started": "2021-06-17T17:06:13.446469Z"
    }
   },
   "outputs": [
    {
     "data": {
      "text/plain": [
       "array([0., 0., 0., 0., 1., 0., 0., 0., 0., 0.])"
      ]
     },
     "execution_count": 7,
     "metadata": {},
     "output_type": "execute_result"
    }
   ],
   "source": [
    "Z = np.zeros(10)\n",
    "Z[4] = 1\n",
    "Z"
   ]
  },
  {
   "cell_type": "markdown",
   "metadata": {},
   "source": [
    "# 创建一个值域范围从10到49的向量(★☆☆)"
   ]
  },
  {
   "cell_type": "code",
   "execution_count": 8,
   "metadata": {
    "execution": {
     "iopub.execute_input": "2021-06-17T17:06:13.459462Z",
     "iopub.status.busy": "2021-06-17T17:06:13.458463Z",
     "iopub.status.idle": "2021-06-17T17:06:13.472456Z",
     "shell.execute_reply": "2021-06-17T17:06:13.470457Z",
     "shell.execute_reply.started": "2021-06-17T17:06:13.458463Z"
    }
   },
   "outputs": [
    {
     "data": {
      "text/plain": [
       "array([10, 11, 12, 13, 14, 15, 16, 17, 18, 19, 20, 21, 22, 23, 24, 25, 26,\n",
       "       27, 28, 29, 30, 31, 32, 33, 34, 35, 36, 37, 38, 39, 40, 41, 42, 43,\n",
       "       44, 45, 46, 47, 48, 49])"
      ]
     },
     "execution_count": 8,
     "metadata": {},
     "output_type": "execute_result"
    }
   ],
   "source": [
    "np.arange(10,50)"
   ]
  },
  {
   "cell_type": "markdown",
   "metadata": {},
   "source": [
    "# 反转一个向量(第一个元素变为最后一个) (★☆☆)"
   ]
  },
  {
   "cell_type": "code",
   "execution_count": 9,
   "metadata": {
    "execution": {
     "iopub.execute_input": "2021-06-17T17:06:13.475453Z",
     "iopub.status.busy": "2021-06-17T17:06:13.474453Z",
     "iopub.status.idle": "2021-06-17T17:06:13.488445Z",
     "shell.execute_reply": "2021-06-17T17:06:13.486447Z",
     "shell.execute_reply.started": "2021-06-17T17:06:13.475453Z"
    },
    "tags": []
   },
   "outputs": [
    {
     "data": {
      "text/plain": [
       "array([49, 48, 47, 46, 45, 44, 43, 42, 41, 40, 39, 38, 37, 36, 35, 34, 33,\n",
       "       32, 31, 30, 29, 28, 27, 26, 25, 24, 23, 22, 21, 20, 19, 18, 17, 16,\n",
       "       15, 14, 13, 12, 11, 10,  9,  8,  7,  6,  5,  4,  3,  2,  1,  0])"
      ]
     },
     "execution_count": 9,
     "metadata": {},
     "output_type": "execute_result"
    }
   ],
   "source": [
    "Z = np.arange(50)\n",
    "Z[::-1]"
   ]
  },
  {
   "cell_type": "markdown",
   "metadata": {},
   "source": [
    "# 创建一个 3x3 并且值从0到8的矩阵(★☆☆)"
   ]
  },
  {
   "cell_type": "code",
   "execution_count": 10,
   "metadata": {
    "execution": {
     "iopub.execute_input": "2021-06-17T17:06:13.490444Z",
     "iopub.status.busy": "2021-06-17T17:06:13.490444Z",
     "iopub.status.idle": "2021-06-17T17:06:13.503437Z",
     "shell.execute_reply": "2021-06-17T17:06:13.501438Z",
     "shell.execute_reply.started": "2021-06-17T17:06:13.490444Z"
    }
   },
   "outputs": [
    {
     "data": {
      "text/plain": [
       "array([[0, 1, 2],\n",
       "       [3, 4, 5],\n",
       "       [6, 7, 8]])"
      ]
     },
     "execution_count": 10,
     "metadata": {},
     "output_type": "execute_result"
    }
   ],
   "source": [
    "np.arange(9).reshape(3,3)"
   ]
  },
  {
   "cell_type": "markdown",
   "metadata": {},
   "source": [
    "# 找到数组[1,2,0,0,4,0]中非0元素的位置索引 (★☆☆)"
   ]
  },
  {
   "cell_type": "code",
   "execution_count": 11,
   "metadata": {
    "execution": {
     "iopub.execute_input": "2021-06-17T17:06:13.509434Z",
     "iopub.status.busy": "2021-06-17T17:06:13.505438Z",
     "iopub.status.idle": "2021-06-17T17:06:13.534334Z",
     "shell.execute_reply": "2021-06-17T17:06:13.532335Z",
     "shell.execute_reply.started": "2021-06-17T17:06:13.509434Z"
    }
   },
   "outputs": [
    {
     "data": {
      "text/plain": [
       "(array([0, 1, 4], dtype=int64),)"
      ]
     },
     "execution_count": 11,
     "metadata": {},
     "output_type": "execute_result"
    }
   ],
   "source": [
    "np.nonzero([1,2,0,0,4,0])"
   ]
  },
  {
   "cell_type": "markdown",
   "metadata": {},
   "source": [
    "# 创建一个 3x3 的单位矩阵 (★☆☆)"
   ]
  },
  {
   "cell_type": "code",
   "execution_count": 12,
   "metadata": {
    "execution": {
     "iopub.execute_input": "2021-06-17T17:06:13.537333Z",
     "iopub.status.busy": "2021-06-17T17:06:13.536334Z",
     "iopub.status.idle": "2021-06-17T17:06:13.549326Z",
     "shell.execute_reply": "2021-06-17T17:06:13.547327Z",
     "shell.execute_reply.started": "2021-06-17T17:06:13.537333Z"
    }
   },
   "outputs": [
    {
     "data": {
      "text/plain": [
       "array([[1., 0., 0.],\n",
       "       [0., 1., 0.],\n",
       "       [0., 0., 1.]])"
      ]
     },
     "execution_count": 12,
     "metadata": {},
     "output_type": "execute_result"
    }
   ],
   "source": [
    "np.eye(3)"
   ]
  },
  {
   "cell_type": "markdown",
   "metadata": {},
   "source": [
    "# 创建一个 3x3x3的随机数组 (★☆☆)"
   ]
  },
  {
   "cell_type": "code",
   "execution_count": 13,
   "metadata": {
    "execution": {
     "iopub.execute_input": "2021-06-17T17:06:13.552325Z",
     "iopub.status.busy": "2021-06-17T17:06:13.551326Z",
     "iopub.status.idle": "2021-06-17T17:06:13.564317Z",
     "shell.execute_reply": "2021-06-17T17:06:13.562319Z",
     "shell.execute_reply.started": "2021-06-17T17:06:13.552325Z"
    }
   },
   "outputs": [
    {
     "data": {
      "text/plain": [
       "array([[[0.44401316, 0.90623253, 0.11966209],\n",
       "        [0.29478679, 0.40275633, 0.39452033],\n",
       "        [0.84297563, 0.47678523, 0.50212078]],\n",
       "\n",
       "       [[0.63083236, 0.73647596, 0.01027813],\n",
       "        [0.70414772, 0.09973091, 0.72688966],\n",
       "        [0.5211413 , 0.3380368 , 0.78429324]],\n",
       "\n",
       "       [[0.79519883, 0.44428075, 0.26299408],\n",
       "        [0.58466112, 0.86030125, 0.85894104],\n",
       "        [0.67053586, 0.61200495, 0.42553959]]])"
      ]
     },
     "execution_count": 13,
     "metadata": {},
     "output_type": "execute_result"
    }
   ],
   "source": [
    "np.random.random((3,3,3))"
   ]
  },
  {
   "cell_type": "markdown",
   "metadata": {},
   "source": [
    "# 创建一个 10x10 的随机数组并找到它的最大值和最小值 (★☆☆)"
   ]
  },
  {
   "cell_type": "code",
   "execution_count": 14,
   "metadata": {
    "execution": {
     "iopub.execute_input": "2021-06-17T17:06:13.567315Z",
     "iopub.status.busy": "2021-06-17T17:06:13.566317Z",
     "iopub.status.idle": "2021-06-17T17:06:13.580316Z",
     "shell.execute_reply": "2021-06-17T17:06:13.578309Z",
     "shell.execute_reply.started": "2021-06-17T17:06:13.567315Z"
    }
   },
   "outputs": [
    {
     "data": {
      "text/plain": [
       "(0.0013829196889882933, 0.990141331955975)"
      ]
     },
     "execution_count": 14,
     "metadata": {},
     "output_type": "execute_result"
    }
   ],
   "source": [
    "Z = np.random.random((10,10))\n",
    "Z.min(), Z.max()"
   ]
  },
  {
   "cell_type": "markdown",
   "metadata": {},
   "source": [
    "# 创建一个长度为30的随机向量并找到它的平均值 (★☆☆)"
   ]
  },
  {
   "cell_type": "code",
   "execution_count": 15,
   "metadata": {
    "execution": {
     "iopub.execute_input": "2021-06-17T17:06:13.584306Z",
     "iopub.status.busy": "2021-06-17T17:06:13.583307Z",
     "iopub.status.idle": "2021-06-17T17:06:13.596301Z",
     "shell.execute_reply": "2021-06-17T17:06:13.594300Z",
     "shell.execute_reply.started": "2021-06-17T17:06:13.584306Z"
    }
   },
   "outputs": [
    {
     "data": {
      "text/plain": [
       "0.5671285008050789"
      ]
     },
     "execution_count": 15,
     "metadata": {},
     "output_type": "execute_result"
    }
   ],
   "source": [
    "Z = np.random.random(30)\n",
    "Z.mean()"
   ]
  },
  {
   "cell_type": "markdown",
   "metadata": {},
   "source": [
    "# 创建一个二维数组，其中边界值为1，其余值为0 (★☆☆)"
   ]
  },
  {
   "cell_type": "code",
   "execution_count": 16,
   "metadata": {
    "execution": {
     "iopub.execute_input": "2021-06-17T17:06:13.605294Z",
     "iopub.status.busy": "2021-06-17T17:06:13.598299Z",
     "iopub.status.idle": "2021-06-17T17:06:13.626282Z",
     "shell.execute_reply": "2021-06-17T17:06:13.624283Z",
     "shell.execute_reply.started": "2021-06-17T17:06:13.605294Z"
    }
   },
   "outputs": [
    {
     "data": {
      "text/plain": [
       "array([[1., 1., 1., 1., 1., 1., 1., 1., 1., 1.],\n",
       "       [1., 0., 0., 0., 0., 0., 0., 0., 0., 1.],\n",
       "       [1., 0., 0., 0., 0., 0., 0., 0., 0., 1.],\n",
       "       [1., 0., 0., 0., 0., 0., 0., 0., 0., 1.],\n",
       "       [1., 0., 0., 0., 0., 0., 0., 0., 0., 1.],\n",
       "       [1., 0., 0., 0., 0., 0., 0., 0., 0., 1.],\n",
       "       [1., 0., 0., 0., 0., 0., 0., 0., 0., 1.],\n",
       "       [1., 0., 0., 0., 0., 0., 0., 0., 0., 1.],\n",
       "       [1., 0., 0., 0., 0., 0., 0., 0., 0., 1.],\n",
       "       [1., 1., 1., 1., 1., 1., 1., 1., 1., 1.]])"
      ]
     },
     "execution_count": 16,
     "metadata": {},
     "output_type": "execute_result"
    }
   ],
   "source": [
    "Z = np.ones((10,10))\n",
    "Z[1:-1,1:-1] = 0\n",
    "Z"
   ]
  },
  {
   "cell_type": "markdown",
   "metadata": {},
   "source": [
    "# 对于一个存在在数组，如何添加一个用0填充的边界? (★☆☆)"
   ]
  },
  {
   "cell_type": "code",
   "execution_count": 17,
   "metadata": {
    "execution": {
     "iopub.execute_input": "2021-06-17T17:06:13.629280Z",
     "iopub.status.busy": "2021-06-17T17:06:13.628280Z",
     "iopub.status.idle": "2021-06-17T17:06:13.642272Z",
     "shell.execute_reply": "2021-06-17T17:06:13.640275Z",
     "shell.execute_reply.started": "2021-06-17T17:06:13.629280Z"
    }
   },
   "outputs": [
    {
     "data": {
      "text/plain": [
       "array([[0., 0., 0., 0., 0., 0., 0.],\n",
       "       [0., 1., 1., 1., 1., 1., 0.],\n",
       "       [0., 1., 1., 1., 1., 1., 0.],\n",
       "       [0., 1., 1., 1., 1., 1., 0.],\n",
       "       [0., 1., 1., 1., 1., 1., 0.],\n",
       "       [0., 1., 1., 1., 1., 1., 0.],\n",
       "       [0., 0., 0., 0., 0., 0., 0.]])"
      ]
     },
     "execution_count": 17,
     "metadata": {},
     "output_type": "execute_result"
    }
   ],
   "source": [
    "Z = np.ones((5,5))\n",
    "np.pad(Z, pad_width=1, mode='constant', constant_values=0)"
   ]
  },
  {
   "cell_type": "markdown",
   "metadata": {},
   "source": [
    "# 下面表达式运行的结果是什么？(★☆☆)"
   ]
  },
  {
   "cell_type": "code",
   "execution_count": 18,
   "metadata": {
    "execution": {
     "iopub.execute_input": "2021-06-17T17:06:13.645271Z",
     "iopub.status.busy": "2021-06-17T17:06:13.644272Z",
     "iopub.status.idle": "2021-06-17T17:06:13.659263Z",
     "shell.execute_reply": "2021-06-17T17:06:13.656266Z",
     "shell.execute_reply.started": "2021-06-17T17:06:13.645271Z"
    }
   },
   "outputs": [
    {
     "data": {
      "text/plain": [
       "nan"
      ]
     },
     "execution_count": 18,
     "metadata": {},
     "output_type": "execute_result"
    }
   ],
   "source": [
    "0 * np.nan"
   ]
  },
  {
   "cell_type": "code",
   "execution_count": 19,
   "metadata": {
    "execution": {
     "iopub.execute_input": "2021-06-17T17:06:13.663261Z",
     "iopub.status.busy": "2021-06-17T17:06:13.662261Z",
     "iopub.status.idle": "2021-06-17T17:06:13.689247Z",
     "shell.execute_reply": "2021-06-17T17:06:13.687247Z",
     "shell.execute_reply.started": "2021-06-17T17:06:13.663261Z"
    }
   },
   "outputs": [
    {
     "data": {
      "text/plain": [
       "False"
      ]
     },
     "execution_count": 19,
     "metadata": {},
     "output_type": "execute_result"
    }
   ],
   "source": [
    "np.nan == np.nan"
   ]
  },
  {
   "cell_type": "code",
   "execution_count": 20,
   "metadata": {
    "execution": {
     "iopub.execute_input": "2021-06-17T17:06:13.692244Z",
     "iopub.status.busy": "2021-06-17T17:06:13.691245Z",
     "iopub.status.idle": "2021-06-17T17:06:13.705237Z",
     "shell.execute_reply": "2021-06-17T17:06:13.703238Z",
     "shell.execute_reply.started": "2021-06-17T17:06:13.692244Z"
    }
   },
   "outputs": [
    {
     "data": {
      "text/plain": [
       "False"
      ]
     },
     "execution_count": 20,
     "metadata": {},
     "output_type": "execute_result"
    }
   ],
   "source": [
    "np.inf > np.nan"
   ]
  },
  {
   "cell_type": "code",
   "execution_count": 21,
   "metadata": {
    "execution": {
     "iopub.execute_input": "2021-06-17T17:06:13.709235Z",
     "iopub.status.busy": "2021-06-17T17:06:13.708235Z",
     "iopub.status.idle": "2021-06-17T17:06:13.719230Z",
     "shell.execute_reply": "2021-06-17T17:06:13.718231Z",
     "shell.execute_reply.started": "2021-06-17T17:06:13.709235Z"
    }
   },
   "outputs": [
    {
     "data": {
      "text/plain": [
       "nan"
      ]
     },
     "execution_count": 21,
     "metadata": {},
     "output_type": "execute_result"
    }
   ],
   "source": [
    "np.nan - np.nan"
   ]
  },
  {
   "cell_type": "code",
   "execution_count": 22,
   "metadata": {
    "execution": {
     "iopub.execute_input": "2021-06-17T17:06:13.722228Z",
     "iopub.status.busy": "2021-06-17T17:06:13.722228Z",
     "iopub.status.idle": "2021-06-17T17:06:13.735220Z",
     "shell.execute_reply": "2021-06-17T17:06:13.733221Z",
     "shell.execute_reply.started": "2021-06-17T17:06:13.722228Z"
    }
   },
   "outputs": [
    {
     "data": {
      "text/plain": [
       "False"
      ]
     },
     "execution_count": 22,
     "metadata": {},
     "output_type": "execute_result"
    }
   ],
   "source": [
    "0.3 == 3 * 0.1"
   ]
  },
  {
   "cell_type": "markdown",
   "metadata": {},
   "source": [
    "# 创建一个 5x5的矩阵，并设置值1,2,3,4落在其对角线下方位置 (★☆☆)"
   ]
  },
  {
   "cell_type": "code",
   "execution_count": 23,
   "metadata": {
    "execution": {
     "iopub.execute_input": "2021-06-17T17:06:13.738219Z",
     "iopub.status.busy": "2021-06-17T17:06:13.737220Z",
     "iopub.status.idle": "2021-06-17T17:06:13.750212Z",
     "shell.execute_reply": "2021-06-17T17:06:13.749213Z",
     "shell.execute_reply.started": "2021-06-17T17:06:13.738219Z"
    },
    "tags": []
   },
   "outputs": [
    {
     "data": {
      "text/plain": [
       "array([[0, 0, 0, 0, 0],\n",
       "       [1, 0, 0, 0, 0],\n",
       "       [0, 2, 0, 0, 0],\n",
       "       [0, 0, 3, 0, 0],\n",
       "       [0, 0, 0, 4, 0]])"
      ]
     },
     "execution_count": 23,
     "metadata": {},
     "output_type": "execute_result"
    }
   ],
   "source": [
    "np.diag(1+np.arange(4),k=-1)"
   ]
  },
  {
   "cell_type": "markdown",
   "metadata": {},
   "source": [
    "# 创建一个8x8 的矩阵，并且设置成棋盘样式 (★☆☆)"
   ]
  },
  {
   "cell_type": "code",
   "execution_count": 24,
   "metadata": {
    "execution": {
     "iopub.execute_input": "2021-06-17T17:06:13.761206Z",
     "iopub.status.busy": "2021-06-17T17:06:13.760207Z",
     "iopub.status.idle": "2021-06-17T17:06:13.783192Z",
     "shell.execute_reply": "2021-06-17T17:06:13.781193Z",
     "shell.execute_reply.started": "2021-06-17T17:06:13.761206Z"
    }
   },
   "outputs": [
    {
     "data": {
      "text/plain": [
       "array([[0, 1, 0, 1, 0, 1, 0, 1],\n",
       "       [1, 0, 1, 0, 1, 0, 1, 0],\n",
       "       [0, 1, 0, 1, 0, 1, 0, 1],\n",
       "       [1, 0, 1, 0, 1, 0, 1, 0],\n",
       "       [0, 1, 0, 1, 0, 1, 0, 1],\n",
       "       [1, 0, 1, 0, 1, 0, 1, 0],\n",
       "       [0, 1, 0, 1, 0, 1, 0, 1],\n",
       "       [1, 0, 1, 0, 1, 0, 1, 0]])"
      ]
     },
     "execution_count": 24,
     "metadata": {},
     "output_type": "execute_result"
    }
   ],
   "source": [
    "Z = np.zeros((8,8),dtype=int)\n",
    "Z[1::2,::2] = 1\n",
    "Z[::2,1::2] = 1\n",
    "Z"
   ]
  },
  {
   "cell_type": "markdown",
   "metadata": {},
   "source": [
    "# 考虑一个 (6,7,8) 形状的数组，其第100个元素的索引(x,y,z)是什么?"
   ]
  },
  {
   "cell_type": "code",
   "execution_count": 25,
   "metadata": {
    "execution": {
     "iopub.execute_input": "2021-06-17T17:06:13.788189Z",
     "iopub.status.busy": "2021-06-17T17:06:13.787190Z",
     "iopub.status.idle": "2021-06-17T17:06:13.799182Z",
     "shell.execute_reply": "2021-06-17T17:06:13.797184Z",
     "shell.execute_reply.started": "2021-06-17T17:06:13.788189Z"
    }
   },
   "outputs": [
    {
     "data": {
      "text/plain": [
       "(1, 5, 4)"
      ]
     },
     "execution_count": 25,
     "metadata": {},
     "output_type": "execute_result"
    }
   ],
   "source": [
    "np.unravel_index(100,(6,7,8))"
   ]
  },
  {
   "cell_type": "markdown",
   "metadata": {},
   "source": [
    "# 用tile函数去创建一个 8x8的棋盘样式矩阵(★☆☆)"
   ]
  },
  {
   "cell_type": "code",
   "execution_count": 26,
   "metadata": {
    "execution": {
     "iopub.execute_input": "2021-06-17T17:06:13.802181Z",
     "iopub.status.busy": "2021-06-17T17:06:13.801183Z",
     "iopub.status.idle": "2021-06-17T17:06:13.831164Z",
     "shell.execute_reply": "2021-06-17T17:06:13.829166Z",
     "shell.execute_reply.started": "2021-06-17T17:06:13.802181Z"
    }
   },
   "outputs": [
    {
     "data": {
      "text/plain": [
       "array([[0, 1, 0, 1, 0, 1, 0, 1],\n",
       "       [1, 0, 1, 0, 1, 0, 1, 0],\n",
       "       [0, 1, 0, 1, 0, 1, 0, 1],\n",
       "       [1, 0, 1, 0, 1, 0, 1, 0],\n",
       "       [0, 1, 0, 1, 0, 1, 0, 1],\n",
       "       [1, 0, 1, 0, 1, 0, 1, 0],\n",
       "       [0, 1, 0, 1, 0, 1, 0, 1],\n",
       "       [1, 0, 1, 0, 1, 0, 1, 0]])"
      ]
     },
     "execution_count": 26,
     "metadata": {},
     "output_type": "execute_result"
    }
   ],
   "source": [
    "np.tile( np.array([[0,1],[1,0]]), (4,4))"
   ]
  },
  {
   "cell_type": "markdown",
   "metadata": {},
   "source": [
    "# 对一个5x5的随机矩阵做归一化(★☆☆)"
   ]
  },
  {
   "cell_type": "code",
   "execution_count": 27,
   "metadata": {
    "execution": {
     "iopub.execute_input": "2021-06-17T17:06:13.834163Z",
     "iopub.status.busy": "2021-06-17T17:06:13.833164Z",
     "iopub.status.idle": "2021-06-17T17:06:13.861148Z",
     "shell.execute_reply": "2021-06-17T17:06:13.859149Z",
     "shell.execute_reply.started": "2021-06-17T17:06:13.834163Z"
    }
   },
   "outputs": [
    {
     "data": {
      "text/plain": [
       "array([[0.57169997, 0.13240912, 0.54217469, 0.08253353, 0.43659318],\n",
       "       [0.47383834, 0.62319864, 0.79187471, 0.88030639, 0.32294387],\n",
       "       [0.11496205, 0.83488764, 0.23070872, 0.166234  , 0.1969877 ],\n",
       "       [0.82482621, 0.44178235, 0.37838131, 0.00552655, 0.        ],\n",
       "       [0.99080261, 0.61160718, 1.        , 0.6979947 , 0.99569168]])"
      ]
     },
     "execution_count": 27,
     "metadata": {},
     "output_type": "execute_result"
    }
   ],
   "source": [
    "Z = np.random.random((5,5))\n",
    "Zmax, Zmin = Z.max(), Z.min()\n",
    "Z = (Z - Zmin)/(Zmax - Zmin)\n",
    "Z"
   ]
  },
  {
   "cell_type": "markdown",
   "metadata": {},
   "source": [
    "# 创建一个将颜色描述为(RGBA)四个无符号字节的自定义dtype？(★☆☆)"
   ]
  },
  {
   "cell_type": "code",
   "execution_count": 28,
   "metadata": {
    "execution": {
     "iopub.execute_input": "2021-06-17T17:06:13.870143Z",
     "iopub.status.busy": "2021-06-17T17:06:13.869143Z",
     "iopub.status.idle": "2021-06-17T17:06:13.895128Z",
     "shell.execute_reply": "2021-06-17T17:06:13.891130Z",
     "shell.execute_reply.started": "2021-06-17T17:06:13.870143Z"
    }
   },
   "outputs": [
    {
     "name": "stderr",
     "output_type": "stream",
     "text": [
      "<ipython-input-28-6c4cf054cef1>:1: FutureWarning: Passing (type, 1) or '1type' as a synonym of type is deprecated; in a future version of numpy, it will be understood as (type, (1,)) / '(1,)type'.\n",
      "  np.dtype([(\"r\", np.ubyte, 1),\n"
     ]
    },
    {
     "data": {
      "text/plain": [
       "dtype([('r', 'u1'), ('g', 'u1'), ('b', 'u1'), ('a', 'u1')])"
      ]
     },
     "execution_count": 28,
     "metadata": {},
     "output_type": "execute_result"
    }
   ],
   "source": [
    "np.dtype([(\"r\", np.ubyte, 1),\n",
    "          (\"g\", np.ubyte, 1),\n",
    "          (\"b\", np.ubyte, 1),\n",
    "          (\"a\", np.ubyte, 1)])"
   ]
  },
  {
   "cell_type": "markdown",
   "metadata": {},
   "source": [
    "# 一个5x3的矩阵与一个3x2的矩阵相乘，实矩阵乘积是什么？(★☆☆)"
   ]
  },
  {
   "cell_type": "code",
   "execution_count": 29,
   "metadata": {
    "execution": {
     "iopub.execute_input": "2021-06-17T17:06:13.898127Z",
     "iopub.status.busy": "2021-06-17T17:06:13.897127Z",
     "iopub.status.idle": "2021-06-17T17:06:13.939177Z",
     "shell.execute_reply": "2021-06-17T17:06:13.937178Z",
     "shell.execute_reply.started": "2021-06-17T17:06:13.898127Z"
    },
    "tags": []
   },
   "outputs": [
    {
     "data": {
      "text/plain": [
       "array([[3., 3.],\n",
       "       [3., 3.],\n",
       "       [3., 3.],\n",
       "       [3., 3.],\n",
       "       [3., 3.]])"
      ]
     },
     "execution_count": 29,
     "metadata": {},
     "output_type": "execute_result"
    }
   ],
   "source": [
    "np.dot(np.ones((5,3)), np.ones((3,2)))"
   ]
  },
  {
   "cell_type": "markdown",
   "metadata": {},
   "source": [
    "# 给定一个一维数组，对其在3到8之间的所有元素取反 (★☆☆)"
   ]
  },
  {
   "cell_type": "code",
   "execution_count": 30,
   "metadata": {
    "execution": {
     "iopub.execute_input": "2021-06-17T17:06:13.942175Z",
     "iopub.status.busy": "2021-06-17T17:06:13.941176Z",
     "iopub.status.idle": "2021-06-17T17:06:13.971159Z",
     "shell.execute_reply": "2021-06-17T17:06:13.969160Z",
     "shell.execute_reply.started": "2021-06-17T17:06:13.942175Z"
    },
    "tags": []
   },
   "outputs": [
    {
     "data": {
      "text/plain": [
       "array([ 0,  1,  2,  3, -4, -5, -6, -7, -8,  9, 10])"
      ]
     },
     "execution_count": 30,
     "metadata": {},
     "output_type": "execute_result"
    }
   ],
   "source": [
    "Z = np.arange(11)\n",
    "Z[(3 < Z) & (Z <= 8)] *= -1\n",
    "Z"
   ]
  },
  {
   "cell_type": "markdown",
   "metadata": {},
   "source": [
    "# 下面脚本运行后的结果是什么? (★☆☆)"
   ]
  },
  {
   "cell_type": "code",
   "execution_count": 31,
   "metadata": {
    "execution": {
     "iopub.execute_input": "2021-06-17T17:06:13.975157Z",
     "iopub.status.busy": "2021-06-17T17:06:13.974157Z",
     "iopub.status.idle": "2021-06-17T17:06:13.987150Z",
     "shell.execute_reply": "2021-06-17T17:06:13.985151Z",
     "shell.execute_reply.started": "2021-06-17T17:06:13.975157Z"
    },
    "tags": []
   },
   "outputs": [
    {
     "data": {
      "text/plain": [
       "9"
      ]
     },
     "execution_count": 31,
     "metadata": {},
     "output_type": "execute_result"
    }
   ],
   "source": [
    "sum(range(5),-1)"
   ]
  },
  {
   "cell_type": "code",
   "execution_count": 32,
   "metadata": {
    "execution": {
     "iopub.execute_input": "2021-06-17T17:06:13.991147Z",
     "iopub.status.busy": "2021-06-17T17:06:13.990148Z",
     "iopub.status.idle": "2021-06-17T17:06:14.018076Z",
     "shell.execute_reply": "2021-06-17T17:06:14.016077Z",
     "shell.execute_reply.started": "2021-06-17T17:06:13.991147Z"
    },
    "tags": []
   },
   "outputs": [
    {
     "data": {
      "text/plain": [
       "10"
      ]
     },
     "execution_count": 32,
     "metadata": {},
     "output_type": "execute_result"
    }
   ],
   "source": [
    "np.sum(range(5),-1)"
   ]
  },
  {
   "cell_type": "markdown",
   "metadata": {},
   "source": [
    "# 考虑一个整数向量Z,下列表达合法的是哪个? (★☆☆)"
   ]
  },
  {
   "cell_type": "code",
   "execution_count": 33,
   "metadata": {
    "execution": {
     "iopub.execute_input": "2021-06-17T17:06:14.021074Z",
     "iopub.status.busy": "2021-06-17T17:06:14.020075Z",
     "iopub.status.idle": "2021-06-17T17:06:14.034068Z",
     "shell.execute_reply": "2021-06-17T17:06:14.031070Z",
     "shell.execute_reply.started": "2021-06-17T17:06:14.021074Z"
    },
    "tags": []
   },
   "outputs": [],
   "source": [
    "Z = np.array([1,2,3])"
   ]
  },
  {
   "cell_type": "code",
   "execution_count": 34,
   "metadata": {
    "execution": {
     "iopub.execute_input": "2021-06-17T17:06:14.042063Z",
     "iopub.status.busy": "2021-06-17T17:06:14.038065Z",
     "iopub.status.idle": "2021-06-17T17:06:14.062052Z",
     "shell.execute_reply": "2021-06-17T17:06:14.061053Z",
     "shell.execute_reply.started": "2021-06-17T17:06:14.042063Z"
    },
    "tags": []
   },
   "outputs": [
    {
     "data": {
      "text/plain": [
       "array([ 1,  4, 27], dtype=int32)"
      ]
     },
     "execution_count": 34,
     "metadata": {},
     "output_type": "execute_result"
    }
   ],
   "source": [
    "Z**Z"
   ]
  },
  {
   "cell_type": "code",
   "execution_count": 35,
   "metadata": {
    "execution": {
     "iopub.execute_input": "2021-06-17T17:06:14.065049Z",
     "iopub.status.busy": "2021-06-17T17:06:14.065049Z",
     "iopub.status.idle": "2021-06-17T17:06:14.078042Z",
     "shell.execute_reply": "2021-06-17T17:06:14.076046Z",
     "shell.execute_reply.started": "2021-06-17T17:06:14.065049Z"
    }
   },
   "outputs": [
    {
     "data": {
      "text/plain": [
       "array([1, 2, 4], dtype=int32)"
      ]
     },
     "execution_count": 35,
     "metadata": {},
     "output_type": "execute_result"
    }
   ],
   "source": [
    "2 << Z >> 2"
   ]
  },
  {
   "cell_type": "code",
   "execution_count": 36,
   "metadata": {
    "execution": {
     "iopub.execute_input": "2021-06-17T17:06:14.082040Z",
     "iopub.status.busy": "2021-06-17T17:06:14.081040Z",
     "iopub.status.idle": "2021-06-17T17:06:14.093033Z",
     "shell.execute_reply": "2021-06-17T17:06:14.091037Z",
     "shell.execute_reply.started": "2021-06-17T17:06:14.082040Z"
    },
    "tags": []
   },
   "outputs": [
    {
     "data": {
      "text/plain": [
       "array([False, False, False])"
      ]
     },
     "execution_count": 36,
     "metadata": {},
     "output_type": "execute_result"
    }
   ],
   "source": [
    "Z <- Z"
   ]
  },
  {
   "cell_type": "code",
   "execution_count": 37,
   "metadata": {
    "execution": {
     "iopub.execute_input": "2021-06-17T17:06:14.097033Z",
     "iopub.status.busy": "2021-06-17T17:06:14.096032Z",
     "iopub.status.idle": "2021-06-17T17:06:14.107025Z",
     "shell.execute_reply": "2021-06-17T17:06:14.106025Z",
     "shell.execute_reply.started": "2021-06-17T17:06:14.097033Z"
    }
   },
   "outputs": [
    {
     "data": {
      "text/plain": [
       "array([0.+1.j, 0.+2.j, 0.+3.j])"
      ]
     },
     "execution_count": 37,
     "metadata": {},
     "output_type": "execute_result"
    }
   ],
   "source": [
    "1j*Z  # 复数"
   ]
  },
  {
   "cell_type": "code",
   "execution_count": 38,
   "metadata": {
    "execution": {
     "iopub.execute_input": "2021-06-17T17:06:14.111023Z",
     "iopub.status.busy": "2021-06-17T17:06:14.110024Z",
     "iopub.status.idle": "2021-06-17T17:06:14.123280Z",
     "shell.execute_reply": "2021-06-17T17:06:14.121282Z",
     "shell.execute_reply.started": "2021-06-17T17:06:14.111023Z"
    }
   },
   "outputs": [
    {
     "data": {
      "text/plain": [
       "array([1., 2., 3.])"
      ]
     },
     "execution_count": 38,
     "metadata": {},
     "output_type": "execute_result"
    }
   ],
   "source": [
    "Z/1/1"
   ]
  },
  {
   "cell_type": "code",
   "execution_count": 39,
   "metadata": {
    "execution": {
     "iopub.execute_input": "2021-06-17T17:06:14.126279Z",
     "iopub.status.busy": "2021-06-17T17:06:14.125280Z",
     "iopub.status.idle": "2021-06-17T17:06:14.756344Z",
     "shell.execute_reply": "2021-06-17T17:06:14.751346Z",
     "shell.execute_reply.started": "2021-06-17T17:06:14.126279Z"
    }
   },
   "outputs": [
    {
     "ename": "ValueError",
     "evalue": "The truth value of an array with more than one element is ambiguous. Use a.any() or a.all()",
     "output_type": "error",
     "traceback": [
      "\u001b[1;31m---------------------------------------------------------------------------\u001b[0m",
      "\u001b[1;31mValueError\u001b[0m                                Traceback (most recent call last)",
      "\u001b[1;32m<ipython-input-39-6d2bd9eb1fd1>\u001b[0m in \u001b[0;36m<module>\u001b[1;34m\u001b[0m\n\u001b[1;32m----> 1\u001b[1;33m \u001b[0mZ\u001b[0m\u001b[1;33m<\u001b[0m\u001b[0mZ\u001b[0m\u001b[1;33m>\u001b[0m\u001b[0mZ\u001b[0m\u001b[1;33m\u001b[0m\u001b[1;33m\u001b[0m\u001b[0m\n\u001b[0m",
      "\u001b[1;31mValueError\u001b[0m: The truth value of an array with more than one element is ambiguous. Use a.any() or a.all()"
     ]
    }
   ],
   "source": [
    "Z<Z>Z"
   ]
  },
  {
   "cell_type": "markdown",
   "metadata": {},
   "source": [
    "# 下面表达式的结果分别是什么？(★☆☆)"
   ]
  },
  {
   "cell_type": "code",
   "execution_count": 40,
   "metadata": {
    "execution": {
     "iopub.execute_input": "2021-06-17T17:06:38.909565Z",
     "iopub.status.busy": "2021-06-17T17:06:38.909565Z",
     "iopub.status.idle": "2021-06-17T17:06:38.928553Z",
     "shell.execute_reply": "2021-06-17T17:06:38.927554Z",
     "shell.execute_reply.started": "2021-06-17T17:06:38.909565Z"
    }
   },
   "outputs": [
    {
     "name": "stderr",
     "output_type": "stream",
     "text": [
      "<ipython-input-40-3585dcb7ab9b>:1: RuntimeWarning: invalid value encountered in true_divide\n",
      "  np.array(0) / np.array(0)\n"
     ]
    },
    {
     "data": {
      "text/plain": [
       "nan"
      ]
     },
     "execution_count": 40,
     "metadata": {},
     "output_type": "execute_result"
    }
   ],
   "source": [
    "np.array(0) / np.array(0)"
   ]
  },
  {
   "cell_type": "code",
   "execution_count": 41,
   "metadata": {
    "execution": {
     "iopub.execute_input": "2021-06-17T17:06:38.931551Z",
     "iopub.status.busy": "2021-06-17T17:06:38.930555Z",
     "iopub.status.idle": "2021-06-17T17:06:38.945544Z",
     "shell.execute_reply": "2021-06-17T17:06:38.943544Z",
     "shell.execute_reply.started": "2021-06-17T17:06:38.931551Z"
    },
    "tags": []
   },
   "outputs": [
    {
     "name": "stderr",
     "output_type": "stream",
     "text": [
      "<ipython-input-41-4764261090d0>:1: RuntimeWarning: divide by zero encountered in floor_divide\n",
      "  np.array(0) // np.array(0)\n"
     ]
    },
    {
     "data": {
      "text/plain": [
       "0"
      ]
     },
     "execution_count": 41,
     "metadata": {},
     "output_type": "execute_result"
    }
   ],
   "source": [
    "np.array(0) // np.array(0)"
   ]
  },
  {
   "cell_type": "code",
   "execution_count": 42,
   "metadata": {
    "execution": {
     "iopub.execute_input": "2021-06-17T17:06:38.948543Z",
     "iopub.status.busy": "2021-06-17T17:06:38.947543Z",
     "iopub.status.idle": "2021-06-17T17:06:38.960536Z",
     "shell.execute_reply": "2021-06-17T17:06:38.959537Z",
     "shell.execute_reply.started": "2021-06-17T17:06:38.948543Z"
    },
    "tags": []
   },
   "outputs": [
    {
     "data": {
      "text/plain": [
       "array([-2.14748365e+09])"
      ]
     },
     "execution_count": 42,
     "metadata": {},
     "output_type": "execute_result"
    }
   ],
   "source": [
    "np.array([np.nan]).astype(int).astype(float)"
   ]
  },
  {
   "cell_type": "markdown",
   "metadata": {},
   "source": [
    "# 如何从零位开始舍入浮点数组？(★☆☆)"
   ]
  },
  {
   "cell_type": "code",
   "execution_count": 43,
   "metadata": {
    "execution": {
     "iopub.execute_input": "2021-06-17T17:06:38.964533Z",
     "iopub.status.busy": "2021-06-17T17:06:38.963533Z",
     "iopub.status.idle": "2021-06-17T17:06:38.977525Z",
     "shell.execute_reply": "2021-06-17T17:06:38.975528Z",
     "shell.execute_reply.started": "2021-06-17T17:06:38.964533Z"
    },
    "tags": []
   },
   "outputs": [
    {
     "name": "stdout",
     "output_type": "stream",
     "text": [
      "[ 4.98948184  3.35249434  7.41145903 -7.28373889 -6.1166632  -1.20994144\n",
      "  5.88711929  4.81129493 -1.83530811 -6.9606028 ]\n"
     ]
    },
    {
     "data": {
      "text/plain": [
       "array([ 5.,  4.,  8., -8., -7., -2.,  6.,  5., -2., -7.])"
      ]
     },
     "execution_count": 43,
     "metadata": {},
     "output_type": "execute_result"
    }
   ],
   "source": [
    "Z = np.random.uniform(-10,+10,10)\n",
    "print(Z)\n",
    "np.copysign(np.ceil(np.abs(Z)), Z)"
   ]
  },
  {
   "cell_type": "markdown",
   "metadata": {},
   "source": [
    "# 如何找出两个数组公共的元素? (★☆☆)"
   ]
  },
  {
   "cell_type": "code",
   "execution_count": 44,
   "metadata": {
    "execution": {
     "iopub.execute_input": "2021-06-17T17:06:38.979524Z",
     "iopub.status.busy": "2021-06-17T17:06:38.978525Z",
     "iopub.status.idle": "2021-06-17T17:06:38.993516Z",
     "shell.execute_reply": "2021-06-17T17:06:38.991517Z",
     "shell.execute_reply.started": "2021-06-17T17:06:38.979524Z"
    },
    "tags": []
   },
   "outputs": [
    {
     "name": "stdout",
     "output_type": "stream",
     "text": [
      "[4 1 6 6 2 3 5 2 5 7]\n",
      "[8 7 2 7 2 7 2 6 6 0]\n"
     ]
    },
    {
     "data": {
      "text/plain": [
       "array([2, 6, 7])"
      ]
     },
     "execution_count": 44,
     "metadata": {},
     "output_type": "execute_result"
    }
   ],
   "source": [
    "Z1 = np.random.randint(0, 10, 10)\n",
    "Z2 = np.random.randint(0, 10, 10)\n",
    "print(Z1)\n",
    "print(Z2)\n",
    "np.intersect1d(Z1, Z2)"
   ]
  },
  {
   "cell_type": "markdown",
   "metadata": {},
   "source": [
    "# 如何忽略所有的 numpy 警告(尽管不建议这么做)? (★☆☆)"
   ]
  },
  {
   "cell_type": "code",
   "execution_count": 45,
   "metadata": {
    "execution": {
     "iopub.execute_input": "2021-06-17T17:06:38.996514Z",
     "iopub.status.busy": "2021-06-17T17:06:38.995515Z",
     "iopub.status.idle": "2021-06-17T17:06:39.009508Z",
     "shell.execute_reply": "2021-06-17T17:06:39.007508Z",
     "shell.execute_reply.started": "2021-06-17T17:06:38.996514Z"
    }
   },
   "outputs": [],
   "source": [
    "# 开启\n",
    "defaults = np.seterr(all=\"ignore\")\n",
    "Z = np.ones(1) / 0\n",
    "# 恢复\n",
    "_ = np.seterr(**defaults)"
   ]
  },
  {
   "cell_type": "code",
   "execution_count": 46,
   "metadata": {
    "execution": {
     "iopub.execute_input": "2021-06-17T17:06:39.011506Z",
     "iopub.status.busy": "2021-06-17T17:06:39.011506Z",
     "iopub.status.idle": "2021-06-17T17:06:39.024498Z",
     "shell.execute_reply": "2021-06-17T17:06:39.022499Z",
     "shell.execute_reply.started": "2021-06-17T17:06:39.011506Z"
    }
   },
   "outputs": [],
   "source": [
    "# 另一个等价的方式， 使用上下文管理器（context manager）\n",
    "with np.errstate(divide='ignore'):\n",
    "    Z = np.ones(1) / 0"
   ]
  },
  {
   "cell_type": "markdown",
   "metadata": {},
   "source": [
    "# 下面的表达式是否为真? (★☆☆)"
   ]
  },
  {
   "cell_type": "code",
   "execution_count": 47,
   "metadata": {
    "execution": {
     "iopub.execute_input": "2021-06-17T17:06:39.029496Z",
     "iopub.status.busy": "2021-06-17T17:06:39.028497Z",
     "iopub.status.idle": "2021-06-17T17:06:39.039489Z",
     "shell.execute_reply": "2021-06-17T17:06:39.038490Z",
     "shell.execute_reply.started": "2021-06-17T17:06:39.029496Z"
    }
   },
   "outputs": [
    {
     "name": "stderr",
     "output_type": "stream",
     "text": [
      "<ipython-input-47-684a50b9c32a>:1: RuntimeWarning: invalid value encountered in sqrt\n",
      "  np.sqrt(-1) == np.emath.sqrt(-1)  # 虚数\n"
     ]
    },
    {
     "data": {
      "text/plain": [
       "False"
      ]
     },
     "execution_count": 47,
     "metadata": {},
     "output_type": "execute_result"
    }
   ],
   "source": [
    "np.sqrt(-1) == np.emath.sqrt(-1)  # 虚数"
   ]
  },
  {
   "cell_type": "markdown",
   "metadata": {},
   "source": [
    "# 如何获得昨天，今天和明天的日期? (★☆☆)"
   ]
  },
  {
   "cell_type": "code",
   "execution_count": 48,
   "metadata": {
    "execution": {
     "iopub.execute_input": "2021-06-17T17:06:39.043487Z",
     "iopub.status.busy": "2021-06-17T17:06:39.042488Z",
     "iopub.status.idle": "2021-06-17T17:06:39.056481Z",
     "shell.execute_reply": "2021-06-17T17:06:39.054481Z",
     "shell.execute_reply.started": "2021-06-17T17:06:39.043487Z"
    },
    "tags": []
   },
   "outputs": [
    {
     "data": {
      "text/plain": [
       "(numpy.datetime64('2021-06-17'),\n",
       " numpy.datetime64('2021-06-18'),\n",
       " numpy.datetime64('2021-06-19'))"
      ]
     },
     "execution_count": 48,
     "metadata": {},
     "output_type": "execute_result"
    }
   ],
   "source": [
    "yesterday = np.datetime64('today', 'D') - np.timedelta64(1, 'D')\n",
    "today = np.datetime64('today', 'D')\n",
    "tomorrow = np.datetime64('today', 'D') + np.timedelta64(1, 'D')\n",
    "yesterday, today, tomorrow"
   ]
  },
  {
   "cell_type": "markdown",
   "metadata": {},
   "source": [
    "# 怎么获得所有与2016年7月的所有日期? (★★☆)"
   ]
  },
  {
   "cell_type": "code",
   "execution_count": 49,
   "metadata": {
    "execution": {
     "iopub.execute_input": "2021-06-17T17:06:39.058479Z",
     "iopub.status.busy": "2021-06-17T17:06:39.058479Z",
     "iopub.status.idle": "2021-06-17T17:06:39.071471Z",
     "shell.execute_reply": "2021-06-17T17:06:39.070472Z",
     "shell.execute_reply.started": "2021-06-17T17:06:39.058479Z"
    }
   },
   "outputs": [
    {
     "data": {
      "text/plain": [
       "array(['2016-07-01', '2016-07-02', '2016-07-03', '2016-07-04',\n",
       "       '2016-07-05', '2016-07-06', '2016-07-07', '2016-07-08',\n",
       "       '2016-07-09', '2016-07-10', '2016-07-11', '2016-07-12',\n",
       "       '2016-07-13', '2016-07-14', '2016-07-15', '2016-07-16',\n",
       "       '2016-07-17', '2016-07-18', '2016-07-19', '2016-07-20',\n",
       "       '2016-07-21', '2016-07-22', '2016-07-23', '2016-07-24',\n",
       "       '2016-07-25', '2016-07-26', '2016-07-27', '2016-07-28',\n",
       "       '2016-07-29', '2016-07-30', '2016-07-31'], dtype='datetime64[D]')"
      ]
     },
     "execution_count": 49,
     "metadata": {},
     "output_type": "execute_result"
    }
   ],
   "source": [
    "np.arange('2016-07', '2016-08', dtype='datetime64[D]')"
   ]
  },
  {
   "cell_type": "markdown",
   "metadata": {},
   "source": [
    "# 如何计算 ((A+B)*(-A/2)) (不使用中间变量)? (★★☆)"
   ]
  },
  {
   "cell_type": "code",
   "execution_count": 50,
   "metadata": {
    "execution": {
     "iopub.execute_input": "2021-06-17T17:06:39.075470Z",
     "iopub.status.busy": "2021-06-17T17:06:39.074470Z",
     "iopub.status.idle": "2021-06-17T17:06:39.088461Z",
     "shell.execute_reply": "2021-06-17T17:06:39.086463Z",
     "shell.execute_reply.started": "2021-06-17T17:06:39.075470Z"
    },
    "tags": []
   },
   "outputs": [
    {
     "name": "stdout",
     "output_type": "stream",
     "text": [
      "[1. 1. 1.] [1. 1. 1.] [1. 1. 1.]\n"
     ]
    },
    {
     "data": {
      "text/plain": [
       "array([-1., -1., -1.])"
      ]
     },
     "execution_count": 50,
     "metadata": {},
     "output_type": "execute_result"
    }
   ],
   "source": [
    "A = np.ones(3) * 1\n",
    "B = np.ones(3) * 1\n",
    "C = np.ones(3) * 1\n",
    "print(A, B, C)\n",
    "np.add(A, B, out=B)\n",
    "np.divide(A, 2, out=A)\n",
    "np.negative(A, out=A)\n",
    "np.multiply(A, B, out=A)"
   ]
  },
  {
   "cell_type": "markdown",
   "metadata": {},
   "source": [
    "# 用5种不同的方法提取随机数组中的整数部分 (★★☆)"
   ]
  },
  {
   "cell_type": "code",
   "execution_count": 51,
   "metadata": {
    "execution": {
     "iopub.execute_input": "2021-06-17T17:06:39.090463Z",
     "iopub.status.busy": "2021-06-17T17:06:39.090463Z",
     "iopub.status.idle": "2021-06-17T17:06:39.104532Z",
     "shell.execute_reply": "2021-06-17T17:06:39.102533Z",
     "shell.execute_reply.started": "2021-06-17T17:06:39.090463Z"
    },
    "tags": []
   },
   "outputs": [
    {
     "name": "stdout",
     "output_type": "stream",
     "text": [
      "[4.90411312 2.22030408 7.395821   3.78739127 9.67764845 0.79156236\n",
      " 7.48234394 4.97113807 7.38026302 1.04932195]\n",
      "[4. 2. 7. 3. 9. 0. 7. 4. 7. 1.]\n",
      "[4. 2. 7. 3. 9. 0. 7. 4. 7. 1.]\n",
      "[4. 2. 7. 3. 9. 0. 7. 4. 7. 1.]\n",
      "[4 2 7 3 9 0 7 4 7 1]\n",
      "[4. 2. 7. 3. 9. 0. 7. 4. 7. 1.]\n"
     ]
    }
   ],
   "source": [
    "Z = np.random.uniform(0, 10, 10)\n",
    "print(Z)\n",
    "print(Z - Z % 1)\n",
    "print(np.floor(Z))\n",
    "print(np.ceil(Z)-1)\n",
    "print(Z.astype(int))\n",
    "print(np.trunc(Z))"
   ]
  },
  {
   "cell_type": "markdown",
   "metadata": {},
   "source": [
    "# 创建一个5x5的矩阵且每一行的值范围为从0到4 (★★☆)"
   ]
  },
  {
   "cell_type": "code",
   "execution_count": 52,
   "metadata": {
    "execution": {
     "iopub.execute_input": "2021-06-17T17:06:39.107530Z",
     "iopub.status.busy": "2021-06-17T17:06:39.106531Z",
     "iopub.status.idle": "2021-06-17T17:06:39.119524Z",
     "shell.execute_reply": "2021-06-17T17:06:39.118524Z",
     "shell.execute_reply.started": "2021-06-17T17:06:39.107530Z"
    }
   },
   "outputs": [
    {
     "data": {
      "text/plain": [
       "array([[0., 1., 2., 3., 4.],\n",
       "       [0., 1., 2., 3., 4.],\n",
       "       [0., 1., 2., 3., 4.],\n",
       "       [0., 1., 2., 3., 4.],\n",
       "       [0., 1., 2., 3., 4.]])"
      ]
     },
     "execution_count": 52,
     "metadata": {},
     "output_type": "execute_result"
    }
   ],
   "source": [
    "Z = np.zeros((5, 5))\n",
    "Z += np.arange(5)\n",
    "Z"
   ]
  },
  {
   "cell_type": "markdown",
   "metadata": {},
   "source": [
    "# 如何用一个生成10个整数的函数来构建数组 (★☆☆)"
   ]
  },
  {
   "cell_type": "code",
   "execution_count": 53,
   "metadata": {
    "execution": {
     "iopub.execute_input": "2021-06-17T17:06:39.122522Z",
     "iopub.status.busy": "2021-06-17T17:06:39.122522Z",
     "iopub.status.idle": "2021-06-17T17:06:39.135515Z",
     "shell.execute_reply": "2021-06-17T17:06:39.133515Z",
     "shell.execute_reply.started": "2021-06-17T17:06:39.122522Z"
    }
   },
   "outputs": [
    {
     "data": {
      "text/plain": [
       "array([0., 1., 2., 3., 4., 5., 6., 7., 8., 9.])"
      ]
     },
     "execution_count": 53,
     "metadata": {},
     "output_type": "execute_result"
    }
   ],
   "source": [
    "def generate():\n",
    "    for x in range(10):\n",
    "      yield x\n",
    "np.fromiter(generate(), dtype=float, count=-1)"
   ]
  },
  {
   "cell_type": "markdown",
   "metadata": {},
   "source": [
    "# 创建一个大小为10的向量， 值域为0到1，不包括0和1 (★★☆)"
   ]
  },
  {
   "cell_type": "code",
   "execution_count": 54,
   "metadata": {
    "execution": {
     "iopub.execute_input": "2021-06-17T17:06:39.138512Z",
     "iopub.status.busy": "2021-06-17T17:06:39.137513Z",
     "iopub.status.idle": "2021-06-17T17:06:39.151505Z",
     "shell.execute_reply": "2021-06-17T17:06:39.149508Z",
     "shell.execute_reply.started": "2021-06-17T17:06:39.138512Z"
    }
   },
   "outputs": [
    {
     "data": {
      "text/plain": [
       "array([0.09090909, 0.18181818, 0.27272727, 0.36363636, 0.45454545,\n",
       "       0.54545455, 0.63636364, 0.72727273, 0.81818182, 0.90909091])"
      ]
     },
     "execution_count": 54,
     "metadata": {},
     "output_type": "execute_result"
    }
   ],
   "source": [
    "np.linspace(0, 1, 12, endpoint=True)[1: -1]"
   ]
  },
  {
   "cell_type": "markdown",
   "metadata": {},
   "source": [
    "# 创建一个大小为10的随机向量，并把它排序 (★★☆)"
   ]
  },
  {
   "cell_type": "code",
   "execution_count": 55,
   "metadata": {
    "execution": {
     "iopub.execute_input": "2021-06-17T17:06:39.155504Z",
     "iopub.status.busy": "2021-06-17T17:06:39.153504Z",
     "iopub.status.idle": "2021-06-17T17:06:39.166496Z",
     "shell.execute_reply": "2021-06-17T17:06:39.165497Z",
     "shell.execute_reply.started": "2021-06-17T17:06:39.155504Z"
    },
    "tags": []
   },
   "outputs": [
    {
     "name": "stdout",
     "output_type": "stream",
     "text": [
      "[0.6732877  0.09483093 0.62980298 0.31650102 0.65958832 0.77948782\n",
      " 0.45246067 0.13698674 0.80389719 0.50540976]\n",
      "[0.09483093 0.13698674 0.31650102 0.45246067 0.50540976 0.62980298\n",
      " 0.65958832 0.6732877  0.77948782 0.80389719]\n"
     ]
    }
   ],
   "source": [
    "Z = np.random.random(10)\n",
    "print(Z)\n",
    "Z.sort()\n",
    "print(Z)"
   ]
  },
  {
   "cell_type": "markdown",
   "metadata": {},
   "source": [
    "# 对一个小数组进行求和有没有办法比np.sum更快? (★★☆)"
   ]
  },
  {
   "cell_type": "code",
   "execution_count": 56,
   "metadata": {
    "execution": {
     "iopub.execute_input": "2021-06-17T17:06:39.169494Z",
     "iopub.status.busy": "2021-06-17T17:06:39.168495Z",
     "iopub.status.idle": "2021-06-17T17:06:39.182489Z",
     "shell.execute_reply": "2021-06-17T17:06:39.181487Z",
     "shell.execute_reply.started": "2021-06-17T17:06:39.169494Z"
    },
    "tags": []
   },
   "outputs": [
    {
     "name": "stdout",
     "output_type": "stream",
     "text": [
      "[0 1 2 3 4 5 6 7 8 9]\n"
     ]
    },
    {
     "data": {
      "text/plain": [
       "45"
      ]
     },
     "execution_count": 56,
     "metadata": {},
     "output_type": "execute_result"
    }
   ],
   "source": [
    "Z = np.arange(10)\n",
    "print(Z)\n",
    "np.add.reduce(Z)"
   ]
  },
  {
   "cell_type": "markdown",
   "metadata": {},
   "source": [
    "# 如何判断两和随机数组相等 (★★☆)"
   ]
  },
  {
   "cell_type": "code",
   "execution_count": 57,
   "metadata": {
    "execution": {
     "iopub.execute_input": "2021-06-17T17:06:39.185486Z",
     "iopub.status.busy": "2021-06-17T17:06:39.184486Z",
     "iopub.status.idle": "2021-06-17T17:06:39.199477Z",
     "shell.execute_reply": "2021-06-17T17:06:39.197479Z",
     "shell.execute_reply.started": "2021-06-17T17:06:39.185486Z"
    }
   },
   "outputs": [
    {
     "name": "stdout",
     "output_type": "stream",
     "text": [
      "False\n",
      "False\n"
     ]
    }
   ],
   "source": [
    "A = np.random.randint(0, 2, 5)\n",
    "B = np.random.randint(0, 2, 5)\n",
    "\n",
    "# 假设array的形状(shape)相同和一个误差容限（tolerance）\n",
    "equal = np.allclose(A,B)\n",
    "print(equal)\n",
    "\n",
    "# 检查形状和元素值，没有误差容限（值必须完全相等）\n",
    "equal = np.array_equal(A,B)\n",
    "print(equal)"
   ]
  },
  {
   "cell_type": "markdown",
   "metadata": {},
   "source": [
    "# 把数组变为只读 (★★☆)"
   ]
  },
  {
   "cell_type": "code",
   "execution_count": 58,
   "metadata": {
    "execution": {
     "iopub.execute_input": "2021-06-17T17:06:39.204474Z",
     "iopub.status.busy": "2021-06-17T17:06:39.202476Z",
     "iopub.status.idle": "2021-06-17T17:06:39.249453Z",
     "shell.execute_reply": "2021-06-17T17:06:39.244453Z",
     "shell.execute_reply.started": "2021-06-17T17:06:39.204474Z"
    }
   },
   "outputs": [
    {
     "ename": "ValueError",
     "evalue": "assignment destination is read-only",
     "output_type": "error",
     "traceback": [
      "\u001b[1;31m---------------------------------------------------------------------------\u001b[0m",
      "\u001b[1;31mValueError\u001b[0m                                Traceback (most recent call last)",
      "\u001b[1;32m<ipython-input-58-69e6f2f21e44>\u001b[0m in \u001b[0;36m<module>\u001b[1;34m\u001b[0m\n\u001b[0;32m      1\u001b[0m \u001b[0mZ\u001b[0m \u001b[1;33m=\u001b[0m \u001b[0mnp\u001b[0m\u001b[1;33m.\u001b[0m\u001b[0mzeros\u001b[0m\u001b[1;33m(\u001b[0m\u001b[1;36m5\u001b[0m\u001b[1;33m)\u001b[0m\u001b[1;33m\u001b[0m\u001b[1;33m\u001b[0m\u001b[0m\n\u001b[0;32m      2\u001b[0m \u001b[0mZ\u001b[0m\u001b[1;33m.\u001b[0m\u001b[0mflags\u001b[0m\u001b[1;33m.\u001b[0m\u001b[0mwriteable\u001b[0m \u001b[1;33m=\u001b[0m \u001b[1;32mFalse\u001b[0m\u001b[1;33m\u001b[0m\u001b[1;33m\u001b[0m\u001b[0m\n\u001b[1;32m----> 3\u001b[1;33m \u001b[0mZ\u001b[0m\u001b[1;33m[\u001b[0m\u001b[1;36m0\u001b[0m\u001b[1;33m]\u001b[0m \u001b[1;33m=\u001b[0m \u001b[1;36m1\u001b[0m\u001b[1;33m\u001b[0m\u001b[1;33m\u001b[0m\u001b[0m\n\u001b[0m",
      "\u001b[1;31mValueError\u001b[0m: assignment destination is read-only"
     ]
    }
   ],
   "source": [
    "Z = np.zeros(5)\n",
    "Z.flags.writeable = False\n",
    "Z[0] = 1"
   ]
  },
  {
   "cell_type": "markdown",
   "metadata": {},
   "source": [
    "# 将一个10x2的笛卡尔坐标矩阵转换为极坐标 (★★☆)"
   ]
  },
  {
   "cell_type": "code",
   "execution_count": 59,
   "metadata": {
    "execution": {
     "iopub.execute_input": "2021-06-17T17:06:57.524957Z",
     "iopub.status.busy": "2021-06-17T17:06:57.523958Z",
     "iopub.status.idle": "2021-06-17T17:06:57.546944Z",
     "shell.execute_reply": "2021-06-17T17:06:57.544945Z",
     "shell.execute_reply.started": "2021-06-17T17:06:57.523958Z"
    }
   },
   "outputs": [
    {
     "name": "stdout",
     "output_type": "stream",
     "text": [
      "[1.01122579 0.93031672 0.42857143 0.76436289 0.88591214 0.5330413\n",
      " 0.9897492  0.65324326 0.33586976 0.89793737]\n",
      "[0.35012305 0.51995759 0.71247213 0.74883824 1.11931432 0.65445006\n",
      " 1.19783637 0.64715609 1.09585639 0.12675273]\n"
     ]
    }
   ],
   "source": [
    "Z = np.random.random((10, 2))\n",
    "X, Y = Z[:, 0], Z[:, 1]\n",
    "R = np.sqrt(X**2 + Y**2)\n",
    "T = np.arctan2(Y, X)\n",
    "print (R)\n",
    "print (T)"
   ]
  },
  {
   "cell_type": "markdown",
   "metadata": {},
   "source": [
    "# 创建一个大小为10的随机向量并且将该向量中最大的值替换为0(★★☆)"
   ]
  },
  {
   "cell_type": "code",
   "execution_count": 60,
   "metadata": {
    "execution": {
     "iopub.execute_input": "2021-06-17T17:06:57.548942Z",
     "iopub.status.busy": "2021-06-17T17:06:57.548942Z",
     "iopub.status.idle": "2021-06-17T17:06:57.562935Z",
     "shell.execute_reply": "2021-06-17T17:06:57.560936Z",
     "shell.execute_reply.started": "2021-06-17T17:06:57.548942Z"
    },
    "tags": []
   },
   "outputs": [
    {
     "data": {
      "text/plain": [
       "array([0.7535488 , 0.68031411, 0.60016447, 0.45633223, 0.69777746,\n",
       "       0.        , 0.14584176, 0.54110602, 0.4263355 , 0.43242272])"
      ]
     },
     "execution_count": 60,
     "metadata": {},
     "output_type": "execute_result"
    }
   ],
   "source": [
    "Z = np.random.random(10)\n",
    "Z[Z.argmax()] = 0\n",
    "Z"
   ]
  },
  {
   "cell_type": "markdown",
   "metadata": {},
   "source": [
    "# 创建一个结构化数组，其中x和y坐标覆盖[0, 1]x[1, 0]区域 (★★☆)"
   ]
  },
  {
   "cell_type": "code",
   "execution_count": 61,
   "metadata": {
    "execution": {
     "iopub.execute_input": "2021-06-17T17:06:57.566933Z",
     "iopub.status.busy": "2021-06-17T17:06:57.565933Z",
     "iopub.status.idle": "2021-06-17T17:06:57.592918Z",
     "shell.execute_reply": "2021-06-17T17:06:57.591919Z",
     "shell.execute_reply.started": "2021-06-17T17:06:57.565933Z"
    }
   },
   "outputs": [
    {
     "data": {
      "text/plain": [
       "array([[(0.  , 0.  ), (0.25, 0.  ), (0.5 , 0.  ), (0.75, 0.  ),\n",
       "        (1.  , 0.  )],\n",
       "       [(0.  , 0.25), (0.25, 0.25), (0.5 , 0.25), (0.75, 0.25),\n",
       "        (1.  , 0.25)],\n",
       "       [(0.  , 0.5 ), (0.25, 0.5 ), (0.5 , 0.5 ), (0.75, 0.5 ),\n",
       "        (1.  , 0.5 )],\n",
       "       [(0.  , 0.75), (0.25, 0.75), (0.5 , 0.75), (0.75, 0.75),\n",
       "        (1.  , 0.75)],\n",
       "       [(0.  , 1.  ), (0.25, 1.  ), (0.5 , 1.  ), (0.75, 1.  ),\n",
       "        (1.  , 1.  )]], dtype=[('x', '<f8'), ('y', '<f8')])"
      ]
     },
     "execution_count": 61,
     "metadata": {},
     "output_type": "execute_result"
    }
   ],
   "source": [
    "Z = np.zeros((5, 5), [('x', float), ('y', float)])\n",
    "Z['x'], Z['y'] = np.meshgrid(np.linspace(0, 1, 5), np.linspace(0, 1, 5))\n",
    "Z"
   ]
  },
  {
   "cell_type": "markdown",
   "metadata": {},
   "source": [
    "# 给定两个数组X和Y，构造柯西(Cauchy)矩阵C(★★☆)"
   ]
  },
  {
   "cell_type": "code",
   "execution_count": 62,
   "metadata": {
    "execution": {
     "iopub.execute_input": "2021-06-17T17:06:57.596915Z",
     "iopub.status.busy": "2021-06-17T17:06:57.595917Z",
     "iopub.status.idle": "2021-06-17T17:06:57.625899Z",
     "shell.execute_reply": "2021-06-17T17:06:57.622901Z",
     "shell.execute_reply.started": "2021-06-17T17:06:57.596915Z"
    },
    "tags": []
   },
   "outputs": [
    {
     "name": "stdout",
     "output_type": "stream",
     "text": [
      "[[-2.         -0.66666667 -0.4        -0.28571429 -0.22222222 -0.18181818\n",
      "  -0.15384615 -0.13333333]\n",
      " [ 2.         -2.         -0.66666667 -0.4        -0.28571429 -0.22222222\n",
      "  -0.18181818 -0.15384615]\n",
      " [ 0.66666667  2.         -2.         -0.66666667 -0.4        -0.28571429\n",
      "  -0.22222222 -0.18181818]\n",
      " [ 0.4         0.66666667  2.         -2.         -0.66666667 -0.4\n",
      "  -0.28571429 -0.22222222]\n",
      " [ 0.28571429  0.4         0.66666667  2.         -2.         -0.66666667\n",
      "  -0.4        -0.28571429]\n",
      " [ 0.22222222  0.28571429  0.4         0.66666667  2.         -2.\n",
      "  -0.66666667 -0.4       ]\n",
      " [ 0.18181818  0.22222222  0.28571429  0.4         0.66666667  2.\n",
      "  -2.         -0.66666667]\n",
      " [ 0.15384615  0.18181818  0.22222222  0.28571429  0.4         0.66666667\n",
      "   2.         -2.        ]]\n",
      "3638.1636371179666\n"
     ]
    }
   ],
   "source": [
    "X = np.arange(8)\n",
    "Y = X + 0.5\n",
    "C = 1.0 / np.subtract.outer(X, Y)\n",
    "print (C)\n",
    "print(np.linalg.det(C))  # 计算行列式"
   ]
  },
  {
   "cell_type": "markdown",
   "metadata": {},
   "source": [
    "# 打印每个numpy类型的最小和最大可表示值 (★★☆)"
   ]
  },
  {
   "cell_type": "code",
   "execution_count": 63,
   "metadata": {
    "execution": {
     "iopub.execute_input": "2021-06-17T17:06:57.628898Z",
     "iopub.status.busy": "2021-06-17T17:06:57.627898Z",
     "iopub.status.idle": "2021-06-17T17:06:57.655882Z",
     "shell.execute_reply": "2021-06-17T17:06:57.653884Z",
     "shell.execute_reply.started": "2021-06-17T17:06:57.628898Z"
    }
   },
   "outputs": [
    {
     "name": "stdout",
     "output_type": "stream",
     "text": [
      "-128\n",
      "127\n",
      "-2147483648\n",
      "2147483647\n",
      "-9223372036854775808\n",
      "9223372036854775807\n",
      "-3.4028235e+38\n",
      "3.4028235e+38\n",
      "1.1920929e-07\n",
      "-1.7976931348623157e+308\n",
      "1.7976931348623157e+308\n",
      "2.220446049250313e-16\n"
     ]
    }
   ],
   "source": [
    "for dtype in [np.int8, np.int32, np.int64]:\n",
    "   print(np.iinfo(dtype).min)\n",
    "   print(np.iinfo(dtype).max)\n",
    "for dtype in [np.float32, np.float64]:\n",
    "   print(np.finfo(dtype).min)\n",
    "   print(np.finfo(dtype).max)\n",
    "   print(np.finfo(dtype).eps)"
   ]
  },
  {
   "cell_type": "markdown",
   "metadata": {},
   "source": [
    "# 如何打印数组中所有的值？(★★☆)"
   ]
  },
  {
   "cell_type": "code",
   "execution_count": 64,
   "metadata": {
    "execution": {
     "iopub.execute_input": "2021-06-17T17:06:57.661878Z",
     "iopub.status.busy": "2021-06-17T17:06:57.660879Z",
     "iopub.status.idle": "2021-06-17T17:06:57.686865Z",
     "shell.execute_reply": "2021-06-17T17:06:57.685866Z",
     "shell.execute_reply.started": "2021-06-17T17:06:57.661878Z"
    },
    "tags": []
   },
   "outputs": [
    {
     "data": {
      "text/plain": [
       "array([[0., 0., 0., 0., 0., 0., 0., 0., 0., 0., 0., 0., 0., 0., 0., 0.],\n",
       "       [0., 0., 0., 0., 0., 0., 0., 0., 0., 0., 0., 0., 0., 0., 0., 0.],\n",
       "       [0., 0., 0., 0., 0., 0., 0., 0., 0., 0., 0., 0., 0., 0., 0., 0.],\n",
       "       [0., 0., 0., 0., 0., 0., 0., 0., 0., 0., 0., 0., 0., 0., 0., 0.],\n",
       "       [0., 0., 0., 0., 0., 0., 0., 0., 0., 0., 0., 0., 0., 0., 0., 0.],\n",
       "       [0., 0., 0., 0., 0., 0., 0., 0., 0., 0., 0., 0., 0., 0., 0., 0.],\n",
       "       [0., 0., 0., 0., 0., 0., 0., 0., 0., 0., 0., 0., 0., 0., 0., 0.],\n",
       "       [0., 0., 0., 0., 0., 0., 0., 0., 0., 0., 0., 0., 0., 0., 0., 0.],\n",
       "       [0., 0., 0., 0., 0., 0., 0., 0., 0., 0., 0., 0., 0., 0., 0., 0.],\n",
       "       [0., 0., 0., 0., 0., 0., 0., 0., 0., 0., 0., 0., 0., 0., 0., 0.],\n",
       "       [0., 0., 0., 0., 0., 0., 0., 0., 0., 0., 0., 0., 0., 0., 0., 0.],\n",
       "       [0., 0., 0., 0., 0., 0., 0., 0., 0., 0., 0., 0., 0., 0., 0., 0.],\n",
       "       [0., 0., 0., 0., 0., 0., 0., 0., 0., 0., 0., 0., 0., 0., 0., 0.],\n",
       "       [0., 0., 0., 0., 0., 0., 0., 0., 0., 0., 0., 0., 0., 0., 0., 0.],\n",
       "       [0., 0., 0., 0., 0., 0., 0., 0., 0., 0., 0., 0., 0., 0., 0., 0.],\n",
       "       [0., 0., 0., 0., 0., 0., 0., 0., 0., 0., 0., 0., 0., 0., 0., 0.]])"
      ]
     },
     "execution_count": 64,
     "metadata": {},
     "output_type": "execute_result"
    }
   ],
   "source": [
    "np.set_printoptions(threshold=sys.maxsize)\n",
    "np.zeros((16,16))"
   ]
  },
  {
   "cell_type": "markdown",
   "metadata": {},
   "source": [
    "# 如何在数组中找到与给定标量接近的值? (★★☆)"
   ]
  },
  {
   "cell_type": "code",
   "execution_count": 65,
   "metadata": {
    "execution": {
     "iopub.execute_input": "2021-06-17T17:06:57.689863Z",
     "iopub.status.busy": "2021-06-17T17:06:57.689863Z",
     "iopub.status.idle": "2021-06-17T17:06:57.703854Z",
     "shell.execute_reply": "2021-06-17T17:06:57.701857Z",
     "shell.execute_reply.started": "2021-06-17T17:06:57.689863Z"
    },
    "tags": []
   },
   "outputs": [
    {
     "name": "stdout",
     "output_type": "stream",
     "text": [
      "[ 0  1  2  3  4  5  6  7  8  9 10 11 12 13 14 15 16 17 18 19 20 21 22 23\n",
      " 24 25 26 27 28 29 30 31 32 33 34 35 36 37 38 39 40 41 42 43 44 45 46 47\n",
      " 48 49 50 51 52 53 54 55 56 57 58 59 60 61 62 63 64 65 66 67 68 69 70 71\n",
      " 72 73 74 75 76 77 78 79 80 81 82 83 84 85 86 87 88 89 90 91 92 93 94 95\n",
      " 96 97 98 99]\n",
      "84.35177925686922\n",
      "84\n",
      "84\n"
     ]
    }
   ],
   "source": [
    "Z = np.arange(100)\n",
    "print(Z)\n",
    "v = np.random.uniform(0, 100)\n",
    "print(v)\n",
    "index = (np.abs(Z-v)).argmin()\n",
    "print(index)\n",
    "print(Z[index])"
   ]
  }
 ],
 "metadata": {
  "kernelspec": {
   "display_name": "Python 3",
   "language": "python",
   "name": "python3"
  },
  "language_info": {
   "codemirror_mode": {
    "name": "ipython",
    "version": 3
   },
   "file_extension": ".py",
   "mimetype": "text/x-python",
   "name": "python",
   "nbconvert_exporter": "python",
   "pygments_lexer": "ipython3",
   "version": "3.8.5"
  },
  "toc-autonumbering": true
 },
 "nbformat": 4,
 "nbformat_minor": 4
}
