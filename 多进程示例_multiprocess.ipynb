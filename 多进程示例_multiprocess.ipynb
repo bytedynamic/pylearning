{
 "cells": [
  {
   "cell_type": "markdown",
   "id": "5e86c272-4efd-48c6-a238-1a1dbfdc7224",
   "metadata": {},
   "source": [
    "# 多进程示例"
   ]
  },
  {
   "cell_type": "markdown",
   "id": "3fb6e80a-1672-4099-abda-2a8089fc869f",
   "metadata": {},
   "source": [
    "## apply_async 实现"
   ]
  },
  {
   "cell_type": "markdown",
   "id": "77e002c2-4657-4e61-98cc-ed2e75935e8c",
   "metadata": {},
   "source": [
    "### 定义一个需要并行的函数"
   ]
  },
  {
   "cell_type": "markdown",
   "id": "baee3b2e-37e8-4f6e-9837-6bd6f966f6b4",
   "metadata": {},
   "source": [
    "- 注意，create_engine('mysql+pymysql://root@localhost:3306/rdf?charset=utf8')不能序列化，所以不能作为参数传入，只能传入url"
   ]
  },
  {
   "cell_type": "code",
   "execution_count": null,
   "id": "085a81f3-e8b1-4df1-98ee-1ff4efdaa2b9",
   "metadata": {},
   "outputs": [],
   "source": [
    "def _storedf(dm, tmppath, sql_link):  # 与MAP方式不同\n",
    "    engine = create_engine(sql_link)\n",
    "    t0 = time.time()\n",
    "    df = pd.read_sql('SELECT * FROM aindexeodprices WHERE S_INFO_WINDCODE=\"%s\"' % dm, con=engine)\n",
    "    df.to_pickle(tmppath+dm+'.pkl')\n",
    "    return '[pid=' + str(os.getpid()) + '] ' + dm +' 用时：%.2fs' % (time.time() - t0)"
   ]
  },
  {
   "cell_type": "markdown",
   "id": "0a3b908c-0122-4f05-8341-50c8b15d3a59",
   "metadata": {},
   "source": [
    "### 定义一个回调函数，如显示实时进度，注意这个回调函数需要即时完成，不然会形成阻塞"
   ]
  },
  {
   "cell_type": "markdown",
   "id": "194cc5f4-e306-42a0-8c9c-b79955c12c62",
   "metadata": {},
   "source": [
    "- 其中msg为并行函数return的部分"
   ]
  },
  {
   "cell_type": "code",
   "execution_count": null,
   "id": "1fff8a91-2fe3-4f8f-8243-451bb8cbd9b6",
   "metadata": {},
   "outputs": [],
   "source": [
    "def show_process(msg):\n",
    "    print(msg)  # 与MAP方式不同"
   ]
  },
  {
   "cell_type": "markdown",
   "id": "c7c346b4-9c85-4469-b852-6a9265658665",
   "metadata": {},
   "source": [
    "### 主函数"
   ]
  },
  {
   "cell_type": "code",
   "execution_count": null,
   "id": "b9bde66e-1790-41d7-a83c-386f68bd0de4",
   "metadata": {},
   "outputs": [],
   "source": [
    "def search_db(tmppath, sql_link, n_workers=4):\n",
    "    engine = create_engine(sql_link)\n",
    "    dms = pd.read_sql('SELECT DISTINCT S_INFO_WINDCODE FROM AIndexEODPrices LIMIT 20', con=engine)['S_INFO_WINDCODE'].tolist()\n",
    "    with Pool(n_workers) as pool:\n",
    "        for dm in dms:\n",
    "            _xinput = (dm, tmppath, sql_link)  \n",
    "            res = pool.apply_async(_storedf, args=_xinput, callback=show_process)\n",
    "        pool.close()\n",
    "        pool.join()\n"
   ]
  },
  {
   "cell_type": "markdown",
   "id": "4e1ca5d9-08cd-48a7-a8ab-2c4bc99be173",
   "metadata": {},
   "source": [
    "- 如果需要打包进程池的输出结果"
   ]
  },
  {
   "cell_type": "code",
   "execution_count": null,
   "id": "b7d662dd-5f53-48c7-9d78-34808c38ad1f",
   "metadata": {},
   "outputs": [],
   "source": [
    "def search_db(tmppath, sql_link, n_workers=4):\n",
    "    engine = create_engine(sql_link)\n",
    "    dms = pd.read_sql('SELECT DISTINCT S_INFO_WINDCODE FROM AIndexEODPrices LIMIT 20', con=engine)['S_INFO_WINDCODE'].tolist()\n",
    "    res_l=[]\n",
    "    with Pool(n_workers) as pool:\n",
    "        for dm in dms:\n",
    "            res = pool.apply_async(_storedf, \n",
    "                                   args=(dm, tmppath, sql_link), \n",
    "                                   callback=show_process)\n",
    "            res_l.append(res)\n",
    "        pool.close()\n",
    "        pool.join()\n",
    "        for res in res_l:\n",
    "            print(res.get())"
   ]
  },
  {
   "cell_type": "markdown",
   "id": "baed3ae5-48e7-47c8-b2ba-1e9fa0396857",
   "metadata": {},
   "source": [
    "## map_async 实现"
   ]
  },
  {
   "cell_type": "code",
   "execution_count": null,
   "id": "c2425a68-ade4-47c5-a39b-7922132fb6f1",
   "metadata": {},
   "outputs": [],
   "source": [
    "def _storedf(xinput):  # 与APPLY方式不同，只能输入一个参数，所以多参数用元组或者列或者字典形式传入\n",
    "    dm, tmppath, sql_link = xinput\n",
    "    engine = create_engine(sql_link)\n",
    "    t0 = time.time()\n",
    "    df = pd.read_sql('SELECT * FROM aindexeodprices WHERE S_INFO_WINDCODE=\"%s\"' % dm, con=engine)\n",
    "    df.to_pickle(tmppath+dm+'.pkl')\n",
    "    return '[pid=' + str(os.getpid()) + '] ' + dm +' 用时：%.2fs' % (time.time() - t0)"
   ]
  },
  {
   "cell_type": "markdown",
   "id": "edf881dd-973d-4b36-8377-cb9e07e5fecf",
   "metadata": {},
   "source": [
    "**同时，回调函数要做调整**\n",
    "- 并行进程用列形式返回值，所以需要对回调函数进行修改，改成msg[0]"
   ]
  },
  {
   "cell_type": "code",
   "execution_count": null,
   "id": "4e8ba7ee-8f38-4d33-a444-d916a81c78d3",
   "metadata": {},
   "outputs": [],
   "source": [
    "def show_process(msg):\n",
    "    print(msg[0])  # 与apply的主要差别"
   ]
  },
  {
   "cell_type": "code",
   "execution_count": null,
   "id": "69db4942-c286-473a-a70e-cfdf34c81423",
   "metadata": {},
   "outputs": [],
   "source": [
    "def search_db(tmppath, sql_link, n_workers=4):\n",
    "    engine = create_engine(sql_link)\n",
    "    dms = pd.read_sql('SELECT DISTINCT S_INFO_WINDCODE FROM AIndexEODPrices LIMIT 20', con=engine)['S_INFO_WINDCODE'].tolist()\n",
    "    with Pool(n_workers) as pool:\n",
    "        for dm in dms:\n",
    "            _xinput = (dm, tmppath, sql_link)  \n",
    "            res = pool.map_async(_storedf, \n",
    "                                 args=(_xinput,),  # 主要差别：打包传入\n",
    "                                 callback=show_process)\n",
    "        pool.close()\n",
    "        pool.join()"
   ]
  },
  {
   "cell_type": "markdown",
   "id": "60bd8f16-7472-4fef-8f17-f1257c843487",
   "metadata": {},
   "source": [
    "## 运行"
   ]
  },
  {
   "cell_type": "code",
   "execution_count": null,
   "id": "f6e6900f-a801-4b5c-8079-d128ab899356",
   "metadata": {},
   "outputs": [],
   "source": [
    "if __name__ == '__main__':\n",
    "    sql_link = 'mysql+pymysql://root@localhost:3306/rdf?charset=utf8'\n",
    "    tmppath = 'E:\\\\TEMP\\\\csvtmp2\\\\'\n",
    "    search_db(tmppath, sql_link)"
   ]
  }
 ],
 "metadata": {
  "kernelspec": {
   "display_name": "Python 3",
   "language": "python",
   "name": "python3"
  },
  "language_info": {
   "codemirror_mode": {
    "name": "ipython",
    "version": 3
   },
   "file_extension": ".py",
   "mimetype": "text/x-python",
   "name": "python",
   "nbconvert_exporter": "python",
   "pygments_lexer": "ipython3",
   "version": "3.8.5"
  },
  "toc-autonumbering": true
 },
 "nbformat": 4,
 "nbformat_minor": 5
}
